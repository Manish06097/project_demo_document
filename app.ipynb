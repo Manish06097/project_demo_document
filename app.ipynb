{
 "cells": [
  {
   "cell_type": "code",
   "execution_count": 2,
   "metadata": {},
   "outputs": [
    {
     "name": "stdout",
     "output_type": "stream",
     "text": [
      "{\"detail\":\"No documents found to process. If you're trying to reprocess, set forceRecompute=True\"}\n"
     ]
    }
   ],
   "source": [
    "import requests\n",
    "\n",
    "url = \"https://app.docupanda.io/standardize/batch\"\n",
    "\n",
    "payload = {\n",
    "    \"schemaId\": \"db71e489\",\n",
    "    \"documentIds\": [\"3166ceb8\"]\n",
    "}\n",
    "headers = {\n",
    "    \"accept\": \"application/json\",\n",
    "    \"content-type\": \"application/json\",\n",
    "    \"X-API-Key\": \"4dllADHRPrSTtyH5yj37ACjmaYZ2\"\n",
    "}\n",
    "\n",
    "response = requests.post(url, json=payload, headers=headers)\n",
    "\n",
    "print(response.text)"
   ]
  },
  {
   "cell_type": "code",
   "execution_count": 3,
   "metadata": {},
   "outputs": [
    {
     "name": "stdout",
     "output_type": "stream",
     "text": [
      "{\"standardizationId\":\"5128b055\",\"documentId\":\"5bb4867c\",\"data\":{\"issuer\":\"מגדל חברה לביטוח בע״מ\",\"issueDate\":\"2024-08-14\",\"documentType\":\"אישור קיום ביטוחים\",\"insuredParty\":{\"name\":\"ד״ר פנינה שמש רוזנשפיר בע״מ\",\"businessNature\":\"נדל״ן\",\"id\":\"514720705\",\"address\":{\"street\":\"ברזילי 15\",\"city\":\"תל אביב\"}},\"requester\":{\"name\":\"מרכזי מסחר (אזו-ריט) בע״מ ואו מליסרון בע״מ קניון רמת אביב בע״מ\",\"id\":\"520037789 510758329 520024191\",\"address\":{\"street\":\"איינשטחחן40, ת״א אבא אבן 1\",\"city\":\"הרצליה\"}},\"insuranceDetails\":[{\"type\":\"רכוש\",\"policyNumber\":\"650001361824\",\"coverageAmount\":\"1,000,000\",\"currency\":\"₪\",\"startDate\":\"2024-06-01\",\"endDate\":\"2025-05-31\",\"exceptions\":\"****\"},{\"type\":\"צד ג׳\",\"policyNumber\":\"650001361824\",\"coverageAmount\":\"1,000,000\",\"currency\":\"₪\",\"startDate\":\"2024-06-01\",\"endDate\":\"2025-05-31\",\"exceptions\":\"****\"},{\"type\":\"אחריות מעבידים\",\"policyNumber\":\"650001361824\",\"coverageAmount\":\"20,000,000\",\"currency\":\"₪\",\"startDate\":\"2024-06-01\",\"endDate\":\"2025-05-31\",\"exceptions\":\"****\"}],\"additionalInfo\":{\"waiverOfSubrogation\":\"Yes\",\"mutualRights\":\"Yes\",\"notificationPeriod\":\"30 days\"},\"additionalClauses\":[\"ויתור על תחלוף לטובת גורם אחר\",\"ויתור על תחלוף לטובת מבקש האישור, למעט בגין מי שגרם לנזק בזדון.\",\"אחריות צולבת (למעט בגין אחריותו המקצועית של מבקש האישור)\",\"מבוטח נוסף בגין מעשי או מחדלי המבוטח - מבקש האישור\",\"מבקש האישור מוגדר כצד ג׳ בפרק זה\"],\"contact\":{\"website\":\"www.harel-group.co.il\"}},\"schemaId\":\"db71e489\",\"schemaName\":\"Insurance form\",\"description\":null,\"jobId\":\"47c4fcfd\",\"dataset\":\"unassigned\",\"filename\":\"Doc (1).pdf\",\"timestamp\":\"2024-12-20T14:03:40.064000Z\",\"metadata\":null}\n"
     ]
    }
   ],
   "source": [
    "import requests\n",
    "\n",
    "url = \"https://app.docupanda.io/standardization/5128b055\"\n",
    "\n",
    "headers = {\n",
    "    \"accept\": \"application/json\",\n",
    "    \"X-API-Key\": \"4dllADHRPrSTtyH5yj37ACjmaYZ2\"\n",
    "}\n",
    "\n",
    "response = requests.get(url, headers=headers)\n",
    "\n",
    "print(response.text)"
   ]
  },
  {
   "cell_type": "code",
   "execution_count": null,
   "metadata": {},
   "outputs": [],
   "source": []
  }
 ],
 "metadata": {
  "kernelspec": {
   "display_name": "venv",
   "language": "python",
   "name": "python3"
  },
  "language_info": {
   "codemirror_mode": {
    "name": "ipython",
    "version": 3
   },
   "file_extension": ".py",
   "mimetype": "text/x-python",
   "name": "python",
   "nbconvert_exporter": "python",
   "pygments_lexer": "ipython3",
   "version": "3.13.0"
  }
 },
 "nbformat": 4,
 "nbformat_minor": 2
}
